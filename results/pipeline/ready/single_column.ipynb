{
 "cells": [
  {
   "cell_type": "code",
   "execution_count": 1,
   "source": [
    "import pandas as pd\n",
    "import os"
   ],
   "outputs": [],
   "metadata": {}
  },
  {
   "cell_type": "code",
   "execution_count": 12,
   "source": [
    "for i in os.listdir('.'):\n",
    "    if 'bert' in i:\n",
    "        print(i)\n",
    "        df = pd.read_csv(i)\n",
    "        sim = df[['Name of the dataset','similar']]\n",
    "        f = sim.to_csv(i.strip('.xlsx').strip('.csv') + '_single.csv')"
   ],
   "outputs": [
    {
     "output_type": "stream",
     "name": "stdout",
     "text": [
      "U.S. Geological Survey!Updated Data Categories and Use Cases-bert-short.xlsx\n",
      "U.S. EPA Office of Research and Development (ORD)!Updated Data Categories and Use Cases-simbert.xlsx\n",
      "Bureau of Land Management !Updated Data Categories and Use Cases-simbert.csv\n"
     ]
    }
   ],
   "metadata": {}
  }
 ],
 "metadata": {
  "orig_nbformat": 4,
  "language_info": {
   "name": "python",
   "version": "3.9.7",
   "mimetype": "text/x-python",
   "codemirror_mode": {
    "name": "ipython",
    "version": 3
   },
   "pygments_lexer": "ipython3",
   "nbconvert_exporter": "python",
   "file_extension": ".py"
  },
  "kernelspec": {
   "name": "python3",
   "display_name": "Python 3.9.7 64-bit"
  },
  "interpreter": {
   "hash": "aee8b7b246df8f9039afb4144a1f6fd8d2ca17a180786b69acc140d282b71a49"
  }
 },
 "nbformat": 4,
 "nbformat_minor": 2
}