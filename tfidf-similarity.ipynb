{
 "cells": [
  {
   "cell_type": "code",
   "execution_count": 1,
   "source": [
    "import pandas as pd\n",
    "import numpy as np\n",
    "from operator import itemgetter\n",
    "from sklearn.feature_extraction.text import TfidfVectorizer\n",
    "from sklearn.metrics.pairwise import cosine_similarity\n",
    "from nltk.corpus import stopwords"
   ],
   "outputs": [],
   "metadata": {}
  },
  {
   "cell_type": "code",
   "execution_count": 18,
   "source": [
    "df = pd.read_csv('results/data.gov.lt.csv')\n",
    "df['id'] = df.index\n",
    "print(df.columns)\n",
    "corpus = list(df['Name of the dataset'].values)\n",
    "stoplist = ['that', 'list', 'to','classifications','distribution','information', 'companies', 'documents']\n",
    "l = stopwords.words('english')\n",
    "stoplist.extend(l)\n",
    "print(stoplist)"
   ],
   "outputs": [
    {
     "output_type": "stream",
     "name": "stdout",
     "text": [
      "Index(['Data Set link', 'Data Vendor Logo', 'Name of the dataset',\n",
      "       'Data Vendor Name', 'Description', 'Use cases', 'Data Categories',\n",
      "       'Last Sentence', 'Description_new', 'id'],\n",
      "      dtype='object')\n",
      "['that', 'list', 'to', 'classifications', 'distribution', 'information', 'companies', 'documents', 'i', 'me', 'my', 'myself', 'we', 'our', 'ours', 'ourselves', 'you', \"you're\", \"you've\", \"you'll\", \"you'd\", 'your', 'yours', 'yourself', 'yourselves', 'he', 'him', 'his', 'himself', 'she', \"she's\", 'her', 'hers', 'herself', 'it', \"it's\", 'its', 'itself', 'they', 'them', 'their', 'theirs', 'themselves', 'what', 'which', 'who', 'whom', 'this', 'that', \"that'll\", 'these', 'those', 'am', 'is', 'are', 'was', 'were', 'be', 'been', 'being', 'have', 'has', 'had', 'having', 'do', 'does', 'did', 'doing', 'a', 'an', 'the', 'and', 'but', 'if', 'or', 'because', 'as', 'until', 'while', 'of', 'at', 'by', 'for', 'with', 'about', 'against', 'between', 'into', 'through', 'during', 'before', 'after', 'above', 'below', 'to', 'from', 'up', 'down', 'in', 'out', 'on', 'off', 'over', 'under', 'again', 'further', 'then', 'once', 'here', 'there', 'when', 'where', 'why', 'how', 'all', 'any', 'both', 'each', 'few', 'more', 'most', 'other', 'some', 'such', 'no', 'nor', 'not', 'only', 'own', 'same', 'so', 'than', 'too', 'very', 's', 't', 'can', 'will', 'just', 'don', \"don't\", 'should', \"should've\", 'now', 'd', 'll', 'm', 'o', 're', 've', 'y', 'ain', 'aren', \"aren't\", 'couldn', \"couldn't\", 'didn', \"didn't\", 'doesn', \"doesn't\", 'hadn', \"hadn't\", 'hasn', \"hasn't\", 'haven', \"haven't\", 'isn', \"isn't\", 'ma', 'mightn', \"mightn't\", 'mustn', \"mustn't\", 'needn', \"needn't\", 'shan', \"shan't\", 'shouldn', \"shouldn't\", 'wasn', \"wasn't\", 'weren', \"weren't\", 'won', \"won't\", 'wouldn', \"wouldn't\"]\n"
     ]
    }
   ],
   "metadata": {}
  },
  {
   "cell_type": "code",
   "execution_count": 14,
   "source": [
    "vectorizer = TfidfVectorizer(stop_words = stoplist)\n",
    "X = vectorizer.fit_transform(corpus)\n"
   ],
   "outputs": [],
   "metadata": {}
  },
  {
   "cell_type": "code",
   "execution_count": null,
   "source": [
    "for i, feature in enumerate(vectorizer.get_feature_names()):\n",
    "    print(i, feature)"
   ],
   "outputs": [],
   "metadata": {}
  },
  {
   "cell_type": "code",
   "execution_count": 15,
   "source": [
    "def get_new_rows(df,cosines,cosines_n):\n",
    "    df['similar'] = df['id'].map(cosines)\n",
    "    "
   ],
   "outputs": [],
   "metadata": {}
  },
  {
   "cell_type": "code",
   "execution_count": null,
   "source": [
    "def get_top(X,rank):\n",
    "    cosines = {}\n",
    "    cosines_n = {}\n",
    "    for x in range(X.shape[0]):\n",
    "        print('I', x)\n",
    "        d = {}\n",
    "        dn = {}\n",
    "        for y in range(X.shape[0]):\n",
    "            if x != y:\n",
    "                cossim = cosine_similarity(X[x],X[y])[0][0]\n",
    "                d[corpus[y]] = cossim\n",
    "                dn[y] = cossim\n",
    "        # d = {corpus[y]:cosine_similarity(X[x],X[y])[0][0] for y in range (X.shape[0]) if x != y}\n",
    "        cosdict = dict(sorted(d.items(), key = itemgetter(1), reverse = True)[:rank])\n",
    "        cos_n_dict = dict(sorted(dn.items(), key = itemgetter(1), reverse = True)[:rank])\n",
    "        cosines[x] =  '\\n'.join([str(k) + ':'+ str(v) for k,v in cosdict.items()])\n",
    "        cosines_n[x] =  ';'.join([str(k) + ':'+ str(v) for k,v in cos_n_dict.items()])\n",
    "        print(corpus[x], cosines[x])\n",
    "    return cosines, cosines_n\n",
    "\n",
    "cosines, cosines_n = get_top(X, rank=5)\n",
    "\n",
    "\n"
   ],
   "outputs": [],
   "metadata": {}
  },
  {
   "cell_type": "code",
   "execution_count": 17,
   "source": [
    "get_new_rows(df,cosines,cosines_n)\n",
    "print(df['similar'].iloc[0])\n",
    "df.to_csv('results/data.gov.lt-sim.csv')"
   ],
   "outputs": [
    {
     "output_type": "stream",
     "name": "stdout",
     "text": [
      "Overcrowding rate by age, sex and broad group of citizenship (total population aged 18 and over):0.8047811245813168\n",
      "At-risk-of-poverty rate by broad group of country of birth (population aged 18 and over):0.7881114990361454\n",
      "People at risk of poverty or social exclusion by broad group of country of birth (population aged 18 and over):0.6952698534176321\n",
      "People at risk of poverty or social exclusion by broad group of country of birth (population aged 18 and over) - new definition:0.6180272015603553\n",
      "At-risk-of-poverty rate by broad group of citizenship (population aged 18 and over):0.5420651441570432\n"
     ]
    }
   ],
   "metadata": {}
  }
 ],
 "metadata": {
  "orig_nbformat": 4,
  "language_info": {
   "name": "python",
   "version": "3.9.7",
   "mimetype": "text/x-python",
   "codemirror_mode": {
    "name": "ipython",
    "version": 3
   },
   "pygments_lexer": "ipython3",
   "nbconvert_exporter": "python",
   "file_extension": ".py"
  },
  "kernelspec": {
   "name": "python3",
   "display_name": "Python 3.9.7 64-bit"
  },
  "interpreter": {
   "hash": "aee8b7b246df8f9039afb4144a1f6fd8d2ca17a180786b69acc140d282b71a49"
  }
 },
 "nbformat": 4,
 "nbformat_minor": 2
}