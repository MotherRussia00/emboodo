{
 "cells": [
  {
   "cell_type": "code",
   "execution_count": 1,
   "source": [
    "import pandas as pd\n",
    "import numpy as np\n",
    "# from operator import itemgetter\n",
    "from sentence_transformers import SentenceTransformer"
   ],
   "outputs": [],
   "metadata": {}
  },
  {
   "cell_type": "code",
   "execution_count": 2,
   "source": [
    "df = pd.read_csv('results/data.gov.lt.csv')[:200]\n",
    "df['id'] = df.index\n",
    "corpus = list(df['Name of the dataset'].values)"
   ],
   "outputs": [],
   "metadata": {}
  },
  {
   "cell_type": "code",
   "execution_count": 3,
   "source": [
    "model = SentenceTransformer('bert-base-nli-mean-tokens')\n",
    "sentence_embeddings = model.encode(corpus)"
   ],
   "outputs": [],
   "metadata": {}
  },
  {
   "cell_type": "code",
   "execution_count": 4,
   "source": [
    "from sklearn.metrics.pairwise import cosine_similarity\n",
    "cosine_similarity(\n",
    "    [sentence_embeddings[0]],\n",
    "    sentence_embeddings[1:10]\n",
    ")\n"
   ],
   "outputs": [
    {
     "output_type": "execute_result",
     "data": {
      "text/plain": [
       "array([[0.90425277, 0.88191164, 0.43846297, 0.4122041 , 0.30720556,\n",
       "        0.40834227, 0.46912238, 0.4781108 , 0.49695876]], dtype=float32)"
      ]
     },
     "metadata": {},
     "execution_count": 4
    }
   ],
   "metadata": {}
  },
  {
   "cell_type": "code",
   "execution_count": null,
   "source": [
    "def get_top(X,rank):\n",
    "    cosines = {}\n",
    "    cosines_n = {}\n",
    "    for x in range(X.shape[0]):\n",
    "        cossims = [cosine_similarity(x, X)]\n",
    "        # print('I', x)\n",
    "        d = {}\n",
    "        dn = {}\n",
    "        for y in range(X.shape[0]):\n",
    "            if x != y:\n",
    "                cossim = cosine_similarity(X[x],X[y])\n",
    "                d[corpus[y]] = cossim\n",
    "                dn[y] = cossim\n",
    "        # d = {corpus[y]:cosine_similarity(X[x],X[y])[0][0] for y in range (X.shape[0]) if x != y}\n",
    "        cosdict = dict(sorted(d.items(), key = itemgetter(1), reverse = True)[:rank])\n",
    "        cos_n_dict = dict(sorted(dn.items(), key = itemgetter(1), reverse = True)[:rank])\n",
    "        cosines[x] =  '\\n'.join([str(k) + ':'+ str(v) for k,v in cosdict.items()])\n",
    "        cosines_n[x] =  ';'.join([str(k) + ':'+ str(v) for k,v in cos_n_dict.items()])\n",
    "        print(corpus[x], cosines[x])\n",
    "    return cosines, cosines_n"
   ],
   "outputs": [],
   "metadata": {}
  },
  {
   "cell_type": "code",
   "execution_count": null,
   "source": [
    "from operator import itemgetter\n",
    "sdict = {}\n",
    "for x in range(sentence_embeddings.shape[0]):\n",
    "        cossims = cosine_similarity([sentence_embeddings[x]],sentence_embeddings)[0]\n",
    "        d = dict(zip(corpus,cossims))\n",
    "        d.pop(corpus[x])\n",
    "        cosdict = dict(sorted(d.items(), key = itemgetter(1), reverse = True)[:5])\n",
    "        # cossims = [cosine_similarity(sentence_embeddings[x], sentence_embeddings)]\n",
    "        print(corpus[x])\n",
    "        print(cosdict)\n",
    "        sdict[x] = '\\n'.join([str(k) + ':'+ str(v) for k,v in cosdict.items()])\n",
    "print(sdict)\n",
    "print(len(sdict))\n"
   ],
   "outputs": [],
   "metadata": {}
  },
  {
   "cell_type": "code",
   "execution_count": 38,
   "source": [
    "df['similar'] = df['id'].map(sdict)\n"
   ],
   "outputs": [],
   "metadata": {}
  },
  {
   "cell_type": "code",
   "execution_count": 39,
   "source": [
    "df.to_csv('results/data.gov.lt-simbert.csv')"
   ],
   "outputs": [],
   "metadata": {}
  }
 ],
 "metadata": {
  "orig_nbformat": 4,
  "language_info": {
   "name": "python",
   "version": "3.9.7",
   "mimetype": "text/x-python",
   "codemirror_mode": {
    "name": "ipython",
    "version": 3
   },
   "pygments_lexer": "ipython3",
   "nbconvert_exporter": "python",
   "file_extension": ".py"
  },
  "kernelspec": {
   "name": "python3",
   "display_name": "Python 3.9.7 64-bit"
  },
  "interpreter": {
   "hash": "aee8b7b246df8f9039afb4144a1f6fd8d2ca17a180786b69acc140d282b71a49"
  }
 },
 "nbformat": 4,
 "nbformat_minor": 2
}