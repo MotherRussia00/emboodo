{
 "cells": [
  {
   "cell_type": "code",
   "execution_count": 15,
   "source": [
    "import pandas as pd\n",
    "import os\n",
    "lol = 'dataset_sheets/pipeline/ready'\n",
    "lis = os.listdir(lol)\n",
    "print(lis)\n",
    "l = []\n",
    "for i in lis:\n",
    "    print(i)\n",
    "    \n",
    "    df = pd.read_csv(os.path.join(lol,i),on_bad_lines='skip', delimiter=';')\n",
    "    print(df.columns)\n",
    "    df_ = df[['Dataset Name']]\n",
    "    l.append(df)\n",
    "\n",
    "dff = pd.concat(l)\n",
    "\n",
    "\n"
   ],
   "outputs": [
    {
     "output_type": "stream",
     "name": "stdout",
     "text": [
      "['Book1.csv', 'Book2.csv', 'Book3.csv', 'Book4.csv', 'Book5.csv']\n",
      "Book1.csv\n",
      "Index(['ID', 'Description', 'post_excerpt', 'content', 'Use Cases',\n",
      "       'Data Categories', 'Connected Data Sets', 'Data Vendor Name',\n",
      "       'Dataset Name'],\n",
      "      dtype='object')\n",
      "Book2.csv\n",
      "Index(['ID', 'Description', 'post_excerpt', 'content', 'Use Cases',\n",
      "       'Data Categories', 'Connected Data Sets', 'Data Vendor Name',\n",
      "       'Dataset Name', 'Unnamed: 9', 'Unnamed: 10', 'Unnamed: 11',\n",
      "       'Unnamed: 12', 'Unnamed: 13', 'Unnamed: 14', 'Unnamed: 15',\n",
      "       'Unnamed: 16', 'Unnamed: 17', 'Unnamed: 18', 'Unnamed: 19',\n",
      "       'Unnamed: 20', 'Unnamed: 21', 'Unnamed: 22', 'Unnamed: 23',\n",
      "       'Unnamed: 24', 'Unnamed: 25', 'Unnamed: 26', 'Unnamed: 27'],\n",
      "      dtype='object')\n",
      "Book3.csv\n",
      "Index(['ID', 'Description', 'post_excerpt', 'content', 'Use Cases',\n",
      "       'Data Categories', 'Connected Data Sets', 'Data Vendor Name',\n",
      "       'Dataset Name', 'Unnamed: 9', 'Unnamed: 10', 'Unnamed: 11',\n",
      "       'Unnamed: 12', 'Unnamed: 13', 'Unnamed: 14', 'Unnamed: 15',\n",
      "       'Unnamed: 16', 'Unnamed: 17', 'Unnamed: 18', 'Unnamed: 19',\n",
      "       'Unnamed: 20', 'Unnamed: 21', 'Unnamed: 22', 'Unnamed: 23',\n",
      "       'Unnamed: 24', 'Unnamed: 25', 'Unnamed: 26', 'Unnamed: 27'],\n",
      "      dtype='object')\n",
      "Book4.csv\n",
      "Index(['ID', 'Description', 'post_excerpt', 'content', 'Use Cases',\n",
      "       'Data Categories', 'Connected Data Sets', 'Data Vendor Name',\n",
      "       'Dataset Name', 'Unnamed: 9', 'Unnamed: 10', 'Unnamed: 11',\n",
      "       'Unnamed: 12', 'Unnamed: 13', 'Unnamed: 14', 'Unnamed: 15',\n",
      "       'Unnamed: 16', 'Unnamed: 17', 'Unnamed: 18', 'Unnamed: 19',\n",
      "       'Unnamed: 20', 'Unnamed: 21', 'Unnamed: 22', 'Unnamed: 23',\n",
      "       'Unnamed: 24', 'Unnamed: 25', 'Unnamed: 26', 'Unnamed: 27'],\n",
      "      dtype='object')\n",
      "Book5.csv\n",
      "Index(['ID', 'Description', 'post_excerpt', 'content', 'Use Cases',\n",
      "       'Data Categories', 'Connected Data Sets', 'Data Vendor Name',\n",
      "       'Dataset Name', 'Unnamed: 9', 'Unnamed: 10', 'Unnamed: 11',\n",
      "       'Unnamed: 12', 'Unnamed: 13', 'Unnamed: 14', 'Unnamed: 15',\n",
      "       'Unnamed: 16', 'Unnamed: 17', 'Unnamed: 18', 'Unnamed: 19',\n",
      "       'Unnamed: 20', 'Unnamed: 21', 'Unnamed: 22', 'Unnamed: 23',\n",
      "       'Unnamed: 24', 'Unnamed: 25', 'Unnamed: 26', 'Unnamed: 27'],\n",
      "      dtype='object')\n"
     ]
    }
   ],
   "metadata": {}
  },
  {
   "cell_type": "code",
   "execution_count": 19,
   "source": [
    "print(len(dff))\n",
    "dff.to_csv('dataset_sheets/pipeline/ready/Description_new.csv')"
   ],
   "outputs": [
    {
     "output_type": "stream",
     "name": "stdout",
     "text": [
      "32258\n"
     ]
    }
   ],
   "metadata": {}
  },
  {
   "cell_type": "code",
   "execution_count": 2,
   "source": [
    "print(df.columns)"
   ],
   "outputs": [
    {
     "output_type": "stream",
     "name": "stdout",
     "text": [
      "Index(['Unnamed: 0', 'Data Set link', 'Name of the dataset',\n",
      "       'Data Vendor Name', 'Description', 'Use Cases', 'Smart Cities = Urban',\n",
      "       'Smart Cities = Cit', 'Smart Factory = Factor', 'Smart Farming = Farm',\n",
      "       'Smart Stadium = Stadium',\n",
      "       'Geospatial Effort Prioritization/Store Location = Shop',\n",
      "       'Data Categories', 'Map Data = map', 'Satellite Data = satellite',\n",
      "       'Geospatial Data', 'Location Data', 'Soil Health Data = soil',\n",
      "       'Last Sentence', 'Description_new'],\n",
      "      dtype='object')\n"
     ]
    }
   ],
   "metadata": {}
  },
  {
   "cell_type": "code",
   "execution_count": 3,
   "source": [],
   "outputs": [
    {
     "output_type": "execute_result",
     "data": {
      "text/plain": [
       "\"Bureau of Land Management's dataset - 'BLM Grazing Allotment Polygon' provides Geospatial Data and Location Data.\""
      ]
     },
     "metadata": {},
     "execution_count": 3
    }
   ],
   "metadata": {}
  },
  {
   "cell_type": "code",
   "execution_count": 11,
   "source": [
    "df =pd.read_csv('/Users/leo_z/Documents/GitHub/emboodo/dataset_sheets/pipeline/ready/Book1.csv',on_bad_lines='skip')\n",
    "len(df)\n"
   ],
   "outputs": [
    {
     "output_type": "execute_result",
     "data": {
      "text/plain": [
       "7571"
      ]
     },
     "metadata": {},
     "execution_count": 11
    }
   ],
   "metadata": {}
  }
 ],
 "metadata": {
  "orig_nbformat": 4,
  "language_info": {
   "name": "python",
   "version": "3.9.7",
   "mimetype": "text/x-python",
   "codemirror_mode": {
    "name": "ipython",
    "version": 3
   },
   "pygments_lexer": "ipython3",
   "nbconvert_exporter": "python",
   "file_extension": ".py"
  },
  "kernelspec": {
   "name": "python3",
   "display_name": "Python 3.9.7 64-bit"
  },
  "interpreter": {
   "hash": "aee8b7b246df8f9039afb4144a1f6fd8d2ca17a180786b69acc140d282b71a49"
  }
 },
 "nbformat": 4,
 "nbformat_minor": 2
}