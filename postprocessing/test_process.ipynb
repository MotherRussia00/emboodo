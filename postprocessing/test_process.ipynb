{
 "cells": [
  {
   "cell_type": "code",
   "execution_count": 1,
   "source": [
    "import pandas as pd\n",
    "import os\n"
   ],
   "outputs": [],
   "metadata": {}
  },
  {
   "cell_type": "code",
   "execution_count": 4,
   "source": [
    "path ='../dataset_sheets/pre_pipeline/labeling/Data-sets-Export-2022-March-08-0912.csv'\n",
    "df = pd.read_csv(path)"
   ],
   "outputs": [],
   "metadata": {}
  },
  {
   "cell_type": "code",
   "execution_count": 13,
   "source": [
    "df.columns"
   ],
   "outputs": [
    {
     "output_type": "execute_result",
     "data": {
      "text/plain": [
       "Index(['ID', 'Content', 'Data Provider', 'Use Case', 'Data Category',\n",
       "       'Content.1', 'Related Data sets'],\n",
       "      dtype='object')"
      ]
     },
     "metadata": {},
     "execution_count": 13
    }
   ],
   "metadata": {}
  },
  {
   "cell_type": "code",
   "execution_count": 11,
   "source": [
    "df['Content.1']"
   ],
   "outputs": [
    {
     "output_type": "execute_result",
     "data": {
      "text/plain": [
       "0        180byTwo's AccountLink data set is an account-...\n",
       "1        Exante Global Flow Analytics supports alpha ge...\n",
       "2        PipeCandy eCommerce Leads &amp; Insights for F...\n",
       "3        Included as part of a software service, Edge b...\n",
       "4        US Data Corporation’s Consumer Lists provides ...\n",
       "                               ...                        \n",
       "35904    Data is a video. Meta data in reprint.This dat...\n",
       "35905    Residential greenness, biomarkers of stress an...\n",
       "35906    This provides 4 results workbooks and 7 workbo...\n",
       "35907    Files uploaded to ScienceHub pair the model re...\n",
       "35908    Data Sources, including links, Data Dictionary...\n",
       "Name: Content.1, Length: 35909, dtype: object"
      ]
     },
     "metadata": {},
     "execution_count": 11
    }
   ],
   "metadata": {}
  }
 ],
 "metadata": {
  "orig_nbformat": 4,
  "language_info": {
   "name": "python",
   "version": "3.9.7",
   "mimetype": "text/x-python",
   "codemirror_mode": {
    "name": "ipython",
    "version": 3
   },
   "pygments_lexer": "ipython3",
   "nbconvert_exporter": "python",
   "file_extension": ".py"
  },
  "kernelspec": {
   "name": "python3",
   "display_name": "Python 3.9.7 64-bit"
  },
  "interpreter": {
   "hash": "aee8b7b246df8f9039afb4144a1f6fd8d2ca17a180786b69acc140d282b71a49"
  }
 },
 "nbformat": 4,
 "nbformat_minor": 2
}